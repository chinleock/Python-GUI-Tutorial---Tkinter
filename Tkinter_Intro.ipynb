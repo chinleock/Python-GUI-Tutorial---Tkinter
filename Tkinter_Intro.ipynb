{
 "cells": [
  {
   "cell_type": "markdown",
   "metadata": {},
   "source": [
    "## What is Tkinter?\n",
    "__Tkinter (Tk interface) is the standard Python interface to the Tk GUI toolkit. Both Tk and Tkinter are available on most Unix platforms, as well as on Windows and Mac systems.__ \n",
    "Widgets are the components you usually see on the UI interface, such as Button, Label... etc (We will go details in the following tutorials)."
   ]
  },
  {
   "cell_type": "markdown",
   "metadata": {},
   "source": [
    "### Very First Step\n",
    "To use the Tkinter moduel is as simple as any Standard Python module.\n",
    "You just need to ``` import Tkinter ```<br>\n",
    "One thing to remind is the module is called __t__kinter in Python3, but __T__kinter in Python2\n"
   ]
  },
  {
   "cell_type": "code",
   "execution_count": 1,
   "metadata": {
    "collapsed": true
   },
   "outputs": [],
   "source": [
    "import sys as SYS\n",
    "pyVer = SYS.version_info[0]\n",
    "if pyVer == 3:\n",
    "    import tkinter as TK\n",
    "else:\n",
    "    import Tkinter as TK"
   ]
  },
  {
   "cell_type": "markdown",
   "metadata": {},
   "source": [
    "### Start with Something Simple!\n",
    "1. Initialize a Tk object\n",
    "2. New a widget， such as TkLabel, TkButton...\n",
    "3. Pack the widgets to make it visible\n",
    "4. Run the application"
   ]
  },
  {
   "cell_type": "code",
   "execution_count": 2,
   "metadata": {
    "collapsed": false
   },
   "outputs": [],
   "source": [
    "#### Step 1 Initialize Tk Object ####\n",
    "root = TK.Tk()\n",
    "#### Step 2 Create TkLabel Component ####\n",
    "label = TK.Label(root, text = 'Simple Example!')\n",
    "#### Create TkButton Component ####\n",
    "button = TK.Button(root, text = 'Quit')\n",
    "#### Step 3 Pack Component ####\n",
    "label.pack()\n",
    "button.pack()\n",
    "#### Step 4 Run Application ####\n",
    "root.mainloop()"
   ]
  },
  {
   "cell_type": "markdown",
   "metadata": {},
   "source": [
    "### Make it Re-Useable!\n",
    "Let's make the above code block into a class, so it can be re-used.\n",
    "In this example, we will...\n",
    "1. Initialize an App class to pack the widgets we need\n",
    "2. Add a Frame widget (a container) for the child widgets\n",
    "3. Add a Label widget and specify the width, height and background color\n",
    "4. Add a Button widget and change the foreground text color; also apply the quit command to the button. During the pack, we pack the button to the right corner (the default is top)\n",
    "\n",
    "Run the application and because we have the quit button in the App, we need to add a explicit ``` destroy() ``` to avoid misbehavior(python crashing) in certain environments"
   ]
  },
  {
   "cell_type": "code",
   "execution_count": 3,
   "metadata": {
    "collapsed": false
   },
   "outputs": [],
   "source": [
    "class App(object):\n",
    "    def __init__(self, master):\n",
    "        #### A Frame (Container) Widget ####\n",
    "        self.frame = TK.Frame(master)\n",
    "        self.frame.pack()\n",
    "        #### A Label Widget ####\n",
    "        self.label = TK.Label(root, text = 'Simple Example!', width = '30', height = '5', bg = \"white\") # bg = background\n",
    "        self.label.pack()\n",
    "        #### A Button Widget to Quit the App ####\n",
    "        self.button = TK.Button(root, text = 'Quit', fg = \"red\", command=self.frame.quit) # fg = foreground\n",
    "        self.button.pack(side=\"right\") # Pack the widget to right, default is top\n",
    "\n",
    "#### Initialize Tk Object\n",
    "root = TK.Tk()\n",
    "#### Create App/ Widgets ####\n",
    "app = App(root)\n",
    "#### Run Application\n",
    "root.mainloop()\n",
    "#### Clean up ####\n",
    "root.destroy()\n",
    "        "
   ]
  },
  {
   "cell_type": "markdown",
   "metadata": {},
   "source": [
    "### Style the Widget\n",
    "Tkinter provides various options to style the widgets. Below are examples of the Label widget.\n",
    " - Example 1: Create a basic Label widget with __30px as width__, __3px as height__, and __yellow(6 digit color code) as background__\n",
    " - Example 2: Add __Foreground__ (blue) to the label\n",
    " - Example 3: Add __Font Configuration__ (Font Type, Font Size, Font Style) to the label\n",
    " - Example 4: Add __Justify__ (align to the right, also break to 2 lines, by using ```'\\n'```) to the label\n",
    " - Example 5: Add __Border__ (flat, groove, __raised__, ridge, solid, or sunken) to the label\n",
    "\n",
    "And in the end, we are going to use the grid() function instead of pack() to line up the widgets"
   ]
  },
  {
   "cell_type": "code",
   "execution_count": 4,
   "metadata": {
    "collapsed": false
   },
   "outputs": [],
   "source": [
    "root = TK.Tk()\n",
    "\n",
    "#### Create an Ordinary Label with 30px Width, 3px Height and Backgroud Color is Yellow ####\n",
    "label = TK.Label(root, text = 'Example 1', width = '30', height = '3', bg = '#FFFFCC')\n",
    "#### Add Foreground Color to the Label ####\n",
    "label_fg = TK.Label(root, text = 'Example 2', fg = '#0099FF', width = '30', height = '3', bg = '#FFFFCC')\n",
    "#### Add Font Configuration to the Label ####\n",
    "label_font = TK.Label(root, text = 'Example 3', font = ('Arial', 14, 'bold italic'), fg = '#0099FF',width = '30', height = '3', bg = '#FFFFCC')\n",
    "#### Add Justify to the Label ####\n",
    "label_justify = TK.Label(root, text = 'Ex\\nample 4', justify = \"right\", font = ('Arial', 14, 'bold italic'), fg = '#0099FF',width = '30', height = '3', bg = '#FFFFCC')\n",
    "#### Add Border to the Label ####\n",
    "label_border = TK.Label(root, text = 'Example 5', bd = '20', relief = 'raised', justify = \"right\", font = ('Arial', 14, 'bold italic'), fg = '#0099FF',width = '30', height = '3', bg = '#FFFFCC')\n",
    "\n",
    "#### Line up the Widgets ####\n",
    "label.grid(row = 0, column = 0, sticky = 'w')\n",
    "label_fg.grid(row = 0, column = 1, sticky = 'e')\n",
    "label_font.grid(row = 1, column = 0, sticky = 'w')\n",
    "label_justify.grid(row = 1, column = 1, sticky = 'e')\n",
    "label_border.grid(row = 2, columnspan = 2, sticky = 's')\n",
    "\n",
    "root.mainloop()"
   ]
  },
  {
   "cell_type": "markdown",
   "metadata": {},
   "source": [
    "### Bind the Events\n",
    "In tkinter, the event is passed as a string and follow the format as ``` <modifier-type-detail>```\n",
    "The most important part is the event __type__, modifier and detail sometimes are optional.\n",
    "Tkinter supported various events, in the following example, we will practice...\n",
    " - Example 1: One event for mouse: __Button Click__ \n",
    " - Example 2: One event for keyboard: __Press Keys__ \n",
    " - Example 3: One event for leaving the application: __(protocol)__<br>\n",
    "The details would be covered in the following tutorials\n",
    " "
   ]
  },
  {
   "cell_type": "code",
   "execution_count": 5,
   "metadata": {
    "collapsed": false
   },
   "outputs": [],
   "source": [
    "root = TK.Tk()\n",
    "\n",
    "def example1(event):\n",
    "    ''' Command for Example 1 '''\n",
    "    msg = \"Mouse double clicks at {}, {}\".format(event.x, event.y)\n",
    "    print(msg)\n",
    "\n",
    "def example2(event):\n",
    "    ''' Command for Example 2 '''\n",
    "    text = event.widget.get()\n",
    "    msg = \"Keyboard enter {}\".format(text)\n",
    "    print(msg)\n",
    "\n",
    "def example3():\n",
    "    ''' Command for Example 3 '''\n",
    "    if pyVer == 2:\n",
    "        import tkMessageBox as MSGBOX\n",
    "    else:\n",
    "        from tkinter import messagebox as MSGBOX\n",
    "    msg = \"Quit the application?\"\n",
    "    if MSGBOX.askokcancel(\"Quit\", msg):\n",
    "        root.destroy()\n",
    "        \n",
    "#### Example 1 ####\n",
    "frame = TK.Frame(root, width = 100, height = 100)\n",
    "frame.bind(\"<Double-Button-1>\", example1)\n",
    "\n",
    "#### Example 2 ####\n",
    "entry = TK.Entry(frame, width = 20)\n",
    "entry.bind(\"<Return>\", example2)\n",
    "entry.pack(side = 'bottom', padx = 80, pady = 80)\n",
    "frame.pack()\n",
    "\n",
    "#### Example 3 ####\n",
    "root.protocol(\"WM_DELETE_WINDOW\", example3)\n",
    "root.mainloop()"
   ]
  },
  {
   "cell_type": "markdown",
   "metadata": {},
   "source": [
    "### Create a Menu\n",
    "Menu is a special widget type in tkinter, you create a menu class first and add methods to the class. There are three methods:\n",
    " - __add_command(label=string, command=callback)__: adds an ordinary menu entry.\n",
    " - __add_separator()__: adds an separator line. This is used to group menu entries.\n",
    " - __add_cascade(label=string, menu=menu instance)__: adds a submenu (another Menu instance). This is either a pull-down menu or a fold-out menu, depending on the parent.\n",
    " \n",
    "Below example, we are going to create a simple menu which contains\n",
    " - Element 1: New a window\n",
    " - Element 2: Open a file\n",
    " - Element 3: Add a seperator between two options\n",
    " - Element 4: Add quit option\n",
    " - Element 5: Add about option\n",
    "Also write cooresponding commands to bind"
   ]
  },
  {
   "cell_type": "code",
   "execution_count": 6,
   "metadata": {
    "collapsed": false
   },
   "outputs": [],
   "source": [
    "root = TK.Tk()\n",
    "\n",
    "def newWindow():\n",
    "    ''' Commands for Element 1 '''\n",
    "    newWin = TK.Toplevel()\n",
    "    frame = TK.Frame(newWin, width = 100, height = 100)\n",
    "    label = TK.Label(frame, text = \"New a window\")\n",
    "    label.pack(side = 'bottom', padx = 50, pady = 50)\n",
    "    frame.pack()\n",
    "\n",
    "def openFile():\n",
    "    ''' Commands for Element 2 '''\n",
    "    if pyVer == 2:\n",
    "        import tkFileDialog as DIALOG\n",
    "    else:\n",
    "        from tkinter import filedialog as DIALOG\n",
    "    DIALOG.askopenfile(mode = 'r')\n",
    "\n",
    "def showAbout():\n",
    "    ''' Commands for Element 5 '''\n",
    "    if pyVer == 2:\n",
    "        import tkMessageBox as MSGBOX\n",
    "    else:\n",
    "        from tkinter import messagebox as MSGBOX\n",
    "    title = \"About...\"\n",
    "    msg = \"Thinter_Intro Tutorial\"\n",
    "    MSGBOX.showinfo(title = title, message = msg)\n",
    "        \n",
    "#### Create a Menu ####\n",
    "menu = TK.Menu(root)\n",
    "root.config(menu = menu)\n",
    "\n",
    "#### Menu 1 ####\n",
    "filemenu = TK.Menu(menu)\n",
    "menu.add_cascade(label=\"File\", menu=filemenu)\n",
    "#### Element 1 ####\n",
    "filemenu.add_command(label=\"New\", command=newWindow)\n",
    "#### Element 2 ####\n",
    "filemenu.add_command(label=\"Open...\", command=openFile)\n",
    "#### Element 3 ####\n",
    "filemenu.add_separator()\n",
    "#### Element 4 ####\n",
    "filemenu.add_command(label=\"Quit\", command = root.destroy)\n",
    "\n",
    "#### Menu 2####\n",
    "helpmenu = TK.Menu(menu)\n",
    "menu.add_cascade(label=\"Help\", menu=helpmenu)\n",
    "#### Element 5 ####\n",
    "helpmenu.add_command(label=\"About...\", command = showAbout)\n",
    "\n",
    "root.mainloop()"
   ]
  },
  {
   "cell_type": "markdown",
   "metadata": {},
   "source": [
    "### Create a Toolbar\n",
    "There is no specific widge type called toolbar. Basically, we can use a Frame widget with couple of Button widget to create a toolbar.\n",
    "The following example, we are going to create a toolbar contains\n",
    " - Element 1: A Print button\n",
    " - Element 2: A Quit button"
   ]
  },
  {
   "cell_type": "code",
   "execution_count": 7,
   "metadata": {
    "collapsed": false
   },
   "outputs": [],
   "source": [
    "root = TK.Tk()\n",
    "\n",
    "def printFcn():\n",
    "    ''' Command for Example 1 '''\n",
    "    msg = \"Toolbor Example\"\n",
    "    print(msg)\n",
    "\n",
    "#### Create a Toolbar ####\n",
    "toolbar = TK.Frame(root)\n",
    "\n",
    "#### Element 1 ####\n",
    "button1 = TK.Button(toolbar, text=\"Print\", width=6, command = printFcn)\n",
    "button1.pack(side=\"left\", padx = 2, pady = 2)\n",
    "#### Element 2 ####\n",
    "button2 = TK.Button(toolbar, text=\"Quit\", width=6, command = root.destroy)\n",
    "button2.pack(side=\"left\", padx = 2, pady = 2)\n",
    "\n",
    "toolbar.pack(side = \"top\", fill = \"x\")\n",
    "root.mainloop()"
   ]
  },
  {
   "cell_type": "markdown",
   "metadata": {},
   "source": [
    "Source: [An Introduction To Tkinter](http://effbot.org/tkinterbook/tkinter-index.htm) <br>\n",
    "        &nbsp;&nbsp;&nbsp;&nbsp;&nbsp;&nbsp;&nbsp;&nbsp;&nbsp;&nbsp;&nbsp;&nbsp;&nbsp;[程式語言教學誌](http://pydoing.blogspot.ca/2012/12/Python-Basic-Concept-of-GUI.html)"
   ]
  }
 ],
 "metadata": {
  "kernelspec": {
   "display_name": "Python 3",
   "language": "python",
   "name": "python3"
  },
  "language_info": {
   "codemirror_mode": {
    "name": "ipython",
    "version": 3
   },
   "file_extension": ".py",
   "mimetype": "text/x-python",
   "name": "python",
   "nbconvert_exporter": "python",
   "pygments_lexer": "ipython3",
   "version": "3.4.1"
  }
 },
 "nbformat": 4,
 "nbformat_minor": 0
}
