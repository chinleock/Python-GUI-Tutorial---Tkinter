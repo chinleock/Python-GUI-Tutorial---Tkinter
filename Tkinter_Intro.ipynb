{
 "cells": [
  {
   "cell_type": "markdown",
   "metadata": {},
   "source": [
    "## What is Tkinter?\n",
    "__Tkinter (Tk interface) is the standard Python interface to the Tk GUI toolkit. Both Tk and Tkinter are available on most Unix platforms, as well as on Windows and Mac systems.__ The commonly used components as following:\n",
    "- TkFrame\n",
    "- TkLable\n",
    "- TkButton\n",
    "- TkCheckButton\n",
    "- TkRadioButton\n",
    "- TkComboBox\n",
    "- TkListbox\n",
    "- TkScrollbar\n",
    "- TkEntry\n",
    "- TkText"
   ]
  },
  {
   "cell_type": "markdown",
   "metadata": {},
   "source": [
    "### Start with Something Simple!\n",
    "1. Initialize a Tk object\n",
    "2. New a component， such as TkLabel, TkButton...\n",
    "3. Pack components (The pack order determined the position/order shows in the application)\n",
    "4. Run the application"
   ]
  },
  {
   "cell_type": "code",
   "execution_count": 1,
   "metadata": {
    "collapsed": false
   },
   "outputs": [],
   "source": [
    "import sys as SYS\n",
    "if SYS.version_info[0] == 3:\n",
    "    import tkinter as TK\n",
    "else:\n",
    "    import Tkinter as TK\n",
    "#### Step 1 Initialize Tk Object ####\n",
    "root = TK.Tk()\n",
    "#### Step 2 Create TkLabel Component ####\n",
    "label = TK.Label(root, text = 'Test Text in TKinter!', width = '30', height = '5')\n",
    "#### Create TkButton Component ####\n",
    "button = TK.Button(root, text = 'Tkinter Button')\n",
    "#### Step 3 Pack Component ####\n",
    "label.pack()\n",
    "button.pack()\n",
    "#### Step 4Run Application ####\n",
    "root.mainloop()"
   ]
  },
  {
   "cell_type": "markdown",
   "metadata": {},
   "source": [
    "Source: [An Introduction To Tkinter](http://effbot.org/tkinterbook/tkinter-index.htm) <br>\n",
    "        &nbsp;&nbsp;&nbsp;&nbsp;&nbsp;&nbsp;&nbsp;&nbsp;&nbsp;&nbsp;&nbsp;&nbsp;[程式語言教學誌](http://pydoing.blogspot.ca/2012/12/Python-Basic-Concept-of-GUI.html)"
   ]
  }
 ],
 "metadata": {
  "kernelspec": {
   "display_name": "Python 2",
   "language": "python",
   "name": "python2"
  },
  "language_info": {
   "codemirror_mode": {
    "name": "ipython",
    "version": 2
   },
   "file_extension": ".py",
   "mimetype": "text/x-python",
   "name": "python",
   "nbconvert_exporter": "python",
   "pygments_lexer": "ipython2",
   "version": "2.7.10"
  }
 },
 "nbformat": 4,
 "nbformat_minor": 0
}
