{
 "cells": [
  {
   "cell_type": "markdown",
   "metadata": {},
   "source": [
    "## What is Tkinter?\n",
    "__Tkinter (Tk interface) is the standard Python interface to the Tk GUI toolkit. Both Tk and Tkinter are available on most Unix platforms, as well as on Windows and Mac systems.__ The commonly used widgets are as following:\n",
    " - Button: A simple button, used to execute a command or other operation.\n",
    " - Canvas: Structured graphics. This widget can be used to draw graphs and plots, create graphics editors...\n",
    " - Checkbutton: Represents a variable that can have two distinct values. Clicking the button toggles between the values.\n",
    " - Entry: A text entry field.\n",
    " - Frame: A container widget. The frame can have a border and a background, and is used to group other widgets when creating an application or dialog layout.\n",
    " - Label: Displays a text or an image.\n",
    " - LabelFrame: A variant of the Frame widget that can draw both a border and a title.(After Python 2.3)\n",
    " - Listbox: Displays a list of alternatives. The listbox can be configured to get radiobutton or checklist behavior.\n",
    " - Menu: A menu pane. Used to implement pulldown and popup menus.\n",
    " - Menubutton: A menubutton. Used to implement pulldown menus.\n",
    " - Message: Display a text. Similar to the label widget, but can automatically wrap text to a given width or aspect ratio.\n",
    " - PanedWindow: A container widget that organizes child widgets in resizable panes.(After Python 2.3)\n",
    " - Radiobutton: Represents one value of a variable that can have one of many values. Clicking the button sets the variable to that value, and clears all other radiobuttons associated with the same variable.\n",
    " - Scale: Allows you to set a numerical value by dragging a “slider”.\n",
    " - Scrollbar: Standard scrollbars for use with canvas, entry, listbox, and text widgets.\n",
    " - Text: Formatted text display. Allows you to display and edit text with various styles and attributes. Also supports embedded images and windows.\n",
    " - Spinbox: A variant of the Entry widget for selecting values from a range or an ordered set. (After Python 2.3)\n",
    " - Toplevel: A container widget displayed as a separate, top-level window."
   ]
  },
  {
   "cell_type": "markdown",
   "metadata": {},
   "source": [
    "### Very First Step\n",
    "To use the Tkinter moduel is as simple as any Standard Python module.\n",
    "You just need to ``` import Tkinter ```<br>\n",
    "One thing to remind is the module is called __t__kinter in Python3, but __T__kinter in Python2\n"
   ]
  },
  {
   "cell_type": "code",
   "execution_count": 1,
   "metadata": {
    "collapsed": true
   },
   "outputs": [],
   "source": [
    "import sys as SYS\n",
    "if SYS.version_info[0] == 3:\n",
    "    import tkinter as TK\n",
    "else:\n",
    "    import Tkinter as TK"
   ]
  },
  {
   "cell_type": "markdown",
   "metadata": {},
   "source": [
    "### Start with Something Simple!\n",
    "1. Initialize a Tk object\n",
    "2. New a widget， such as TkLabel, TkButton...\n",
    "3. Pack the widgets to make it visible\n",
    "4. Run the application"
   ]
  },
  {
   "cell_type": "code",
   "execution_count": null,
   "metadata": {
    "collapsed": false
   },
   "outputs": [],
   "source": [
    "#### Step 1 Initialize Tk Object ####\n",
    "root = TK.Tk()\n",
    "#### Step 2 Create TkLabel Component ####\n",
    "label = TK.Label(root, text = 'Simple Example!')\n",
    "#### Create TkButton Component ####\n",
    "button = TK.Button(root, text = 'Quit')\n",
    "#### Step 3 Pack Component ####\n",
    "label.pack()\n",
    "button.pack()\n",
    "#### Step 4 Run Application ####\n",
    "root.mainloop()"
   ]
  },
  {
   "cell_type": "markdown",
   "metadata": {},
   "source": [
    "### Make it Re-Useable!\n",
    "Let's make the above code block into a class, so it can be re-used.\n",
    "In this example, we will...\n",
    "1. Initialize an App class to pack the widgets we need\n",
    "2. Add a Frame widget (a container) for the child widgets\n",
    "3. Add a Label widget and specify the width, height and background color\n",
    "4. Add a Button widget and change the foreground text color; also apply the quit command to the button. During the pack, we pack the button to the right corner (the default is top)\n",
    "\n",
    "Run the application and because we have the quit button in the App, we need to add a explicit ``` destroy() ``` to avoid misbehavior(python crashing) in certain environments"
   ]
  },
  {
   "cell_type": "code",
   "execution_count": null,
   "metadata": {
    "collapsed": false
   },
   "outputs": [],
   "source": [
    "class App(object):\n",
    "    def __init__(self, master):\n",
    "        #### A Frame (Container) Widget ####\n",
    "        self.frame = TK.Frame(master)\n",
    "        self.frame.pack()\n",
    "        #### A Label Widget ####\n",
    "        self.label = TK.Label(root, text = 'Simple Example!', width = '30', height = '5', bg = \"white\") # bg = background\n",
    "        self.label.pack()\n",
    "        #### A Button Widget to Quit the App ####\n",
    "        self.button = TK.Button(root, text = 'Quit', fg = \"red\", command=self.frame.quit) # fg = foreground\n",
    "        self.button.pack(side=\"right\") # Pack the widget to right, default is top\n",
    "\n",
    "#### Initialize Tk Object\n",
    "root = TK.Tk()\n",
    "#### Create App/ Widgets ####\n",
    "app = App(root)\n",
    "#### Run Application\n",
    "root.mainloop()\n",
    "#### Clean up ####\n",
    "root.destroy()\n",
    "        "
   ]
  },
  {
   "cell_type": "markdown",
   "metadata": {},
   "source": [
    "### Styling the Widget\n",
    "Tkinter provides various options to style the widgets. Below are examples of the Label widget.\n",
    " - Example 1: Create a basic Label widget with __30px as width__, __3px as height__, and __yellow(6 digit color code) as background__\n",
    " - Example 2: Add __Foreground__ (blue) to the label\n",
    " - Example 3: Add __Font Configuration__ (Font Type, Font Size, Font Style) to the label\n",
    " - Example 4: Add __Justify__ (align to the right, also break to 2 lines, by using ```'\\n'```) to the label\n",
    " - Example 5: Add __Border__ (flat, groove, __raised__, ridge, solid, or sunken) to the label"
   ]
  },
  {
   "cell_type": "code",
   "execution_count": 3,
   "metadata": {
    "collapsed": false
   },
   "outputs": [],
   "source": [
    "root = TK.Tk()\n",
    "\n",
    "#### Create an Ordinary Label with 30px Width, 3px Height and Backgroud Color is Yellow ####\n",
    "label = TK.Label(root, text = 'Example 1', width = '30', height = '3', bg = '#FFFFCC')\n",
    "#### Add Foreground Color to the Label ####\n",
    "label_fg = TK.Label(root, text = 'Example 2', fg = '#0099FF', width = '30', height = '3', bg = '#FFFFCC')\n",
    "#### Add Font Configuration to the Label ####\n",
    "label_font = TK.Label(root, text = 'Example 3', font = ('Arial', 14, 'bold italic'), fg = '#0099FF',width = '30', height = '3', bg = '#FFFFCC')\n",
    "#### Add Justify to the Label ####\n",
    "label_justify = TK.Label(root, text = 'Ex\\nample 4', justify = \"right\", font = ('Arial', 14, 'bold italic'), fg = '#0099FF',width = '30', height = '3', bg = '#FFFFCC')\n",
    "#### Add Border to the Label ####\n",
    "label_border = TK.Label(root, text = 'Example 5', bd = '20', relief = 'raised', justify = \"right\", font = ('Arial', 14, 'bold italic'), fg = '#0099FF',width = '30', height = '3', bg = '#FFFFCC')\n",
    "\n",
    "#### Pack the Widgets ####\n",
    "labels = [label, label_fg, label_font, label_justify, label_border]\n",
    "[l.pack() for l in labels]\n",
    "\n",
    "root.mainloop()"
   ]
  },
  {
   "cell_type": "markdown",
   "metadata": {},
   "source": [
    "Source: [An Introduction To Tkinter](http://effbot.org/tkinterbook/tkinter-index.htm) <br>\n",
    "        &nbsp;&nbsp;&nbsp;&nbsp;&nbsp;&nbsp;&nbsp;&nbsp;&nbsp;&nbsp;&nbsp;&nbsp;&nbsp;[程式語言教學誌](http://pydoing.blogspot.ca/2012/12/Python-Basic-Concept-of-GUI.html)"
   ]
  }
 ],
 "metadata": {
  "kernelspec": {
   "display_name": "Python 3",
   "language": "python",
   "name": "python3"
  },
  "language_info": {
   "codemirror_mode": {
    "name": "ipython",
    "version": 3
   },
   "file_extension": ".py",
   "mimetype": "text/x-python",
   "name": "python",
   "nbconvert_exporter": "python",
   "pygments_lexer": "ipython3",
   "version": "3.4.1"
  }
 },
 "nbformat": 4,
 "nbformat_minor": 0
}
